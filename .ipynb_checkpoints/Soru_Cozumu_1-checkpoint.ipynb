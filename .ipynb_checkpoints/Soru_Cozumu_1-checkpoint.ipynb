{
 "cells": [
  {
   "cell_type": "markdown",
   "metadata": {},
   "source": [
    "### 1\n",
    "Create a function that takes a number num and returns its length.\n",
    "\n",
    "number_length(10) ➞ 2\n",
    "\n",
    "number_length(5000) ➞ 4\n",
    "\n",
    "number_length(0) ➞ 1"
   ]
  },
  {
   "cell_type": "code",
   "execution_count": 12,
   "metadata": {},
   "outputs": [
    {
     "data": {
      "text/plain": [
       "5"
      ]
     },
     "execution_count": 12,
     "metadata": {},
     "output_type": "execute_result"
    }
   ],
   "source": [
    "def number_length(num):\n",
    "    negative = False\n",
    "    num = str(num)\n",
    "    if num.startswith('-'):\n",
    "        negative = True\n",
    "    length = len(num)\n",
    "    if negative:\n",
    "        return length - 1\n",
    "    else:\n",
    "        return length\n",
    "\n",
    "number_length(-14454)"
   ]
  },
  {
   "cell_type": "markdown",
   "metadata": {},
   "source": [
    "### 2\n",
    "A number is said to be Harshad if it's exactly divisible by the sum of its digits. Create a function that determines whether a number is a Harshad or not.\n",
    "\n",
    "is_harshad(75) ➞ False\n",
    "#7 + 5 = 12\n",
    "#75 is not exactly divisible by 12\n",
    " \n",
    "is_harshad(171) ➞ True\n",
    "#1 + 7 + 1 = 9\n",
    "#9 exactly divides 171\n",
    " \n",
    "is_harshad(481) ➞ True\n",
    "\n",
    "is_harshad(89) ➞ False\n",
    "\n",
    "is_harshad(516) ➞ True\n",
    "\n",
    "is_harshad(200) ➞ True"
   ]
  },
  {
   "cell_type": "code",
   "execution_count": 20,
   "metadata": {},
   "outputs": [
    {
     "data": {
      "text/plain": [
       "True"
      ]
     },
     "execution_count": 20,
     "metadata": {},
     "output_type": "execute_result"
    }
   ],
   "source": [
    "def is_harshad(num):\n",
    "    toplam = 0\n",
    "    num = str(num)\n",
    "    for i in num:\n",
    "        toplam += int(i)\n",
    "    if not int(num) % toplam:\n",
    "        return True\n",
    "    else:\n",
    "        return False\n",
    "\n",
    "is_harshad(200)"
   ]
  },
  {
   "cell_type": "markdown",
   "metadata": {},
   "source": [
    "### 3\n",
    "Write a function that inverts the keys and values of a dictionary.\n",
    "\n",
    "invert({ \"z\": \"q\", \"w\": \"f\" })\n",
    "➞ { \"q\": \"z\", \"f\": \"w\" }\n",
    "\n",
    "invert({ \"a\": 1, \"b\": 2, \"c\": 3 })\n",
    "➞ { 1: \"a\", 2: \"b\", 3: \"c\" }\n",
    "\n",
    "invert({ \"zebra\": \"koala\", \"horse\": \"camel\" })\n",
    "➞ { \"koala\": \"zebra\", \"camel\": \"horse\" }"
   ]
  },
  {
   "cell_type": "code",
   "execution_count": 40,
   "metadata": {},
   "outputs": [
    {
     "data": {
      "text/plain": [
       "{'koala': 'zebra', 'camel': 'horse'}"
      ]
     },
     "execution_count": 40,
     "metadata": {},
     "output_type": "execute_result"
    }
   ],
   "source": [
    "def invert(dictt):\n",
    "    new_dictt = {}\n",
    "    for k, v in dictt.items():\n",
    "        new_dictt[v] = k\n",
    "    return new_dictt\n",
    "\n",
    "dictt = { \"zebra\": \"koala\", \"horse\": \"camel\" }\n",
    "invert(dictt)"
   ]
  },
  {
   "cell_type": "markdown",
   "metadata": {},
   "source": [
    "### 4\n",
    "Create a function that takes an integer n and returns the factorial of factorials. \n",
    "\n",
    "See below examples for a better understanding:\n",
    "\n",
    "fact_of_fact(4) ➞ 288\n",
    "#4! * 3! * 2! * 1! = 288\n",
    "\n",
    "fact_of_fact(5) ➞ 34560\n",
    "\n",
    "fact_of_fact(6) ➞ 24883200"
   ]
  },
  {
   "cell_type": "code",
   "execution_count": 46,
   "metadata": {},
   "outputs": [
    {
     "data": {
      "text/plain": [
       "24883200"
      ]
     },
     "execution_count": 46,
     "metadata": {},
     "output_type": "execute_result"
    }
   ],
   "source": [
    "def fact_of_fact(num):\n",
    "    sonuc = 1\n",
    "    for i in range(1, num + 2):\n",
    "        carpim = 1\n",
    "        for j in range(1, i):\n",
    "            carpim *= j\n",
    "        sonuc *= carpim\n",
    "    return sonuc\n",
    "fact_of_fact(6)"
   ]
  },
  {
   "cell_type": "markdown",
   "metadata": {},
   "source": [
    "### 5\n",
    "Given a list of words in the singular form, return a set of those words in the plural form if they appear more than once in the list.\n",
    "\n",
    "pluralize([\"cow\", \"pig\", \"cow\", \"cow\"]) ➞ { \"cows\", \"pig\" }\n",
    "\n",
    "pluralize([\"table\", \"table\", \"table\"]) ➞ { \"tables\" }\n",
    "\n",
    "pluralize([\"chair\", \"pencil\", \"arm\"]) ➞ { \"chair\", \"pencil\", \"arm\" }"
   ]
  },
  {
   "cell_type": "code",
   "execution_count": 50,
   "metadata": {},
   "outputs": [
    {
     "data": {
      "text/plain": [
       "{'arm', 'chairs', 'pencil'}"
      ]
     },
     "execution_count": 50,
     "metadata": {},
     "output_type": "execute_result"
    }
   ],
   "source": [
    "def pluralize(liste):\n",
    "    new_list = []\n",
    "    for i in liste:\n",
    "        sayim = liste.count(i)\n",
    "        if sayim > 1:\n",
    "            i = i + 's'\n",
    "            new_list.append(i)\n",
    "        else:\n",
    "            new_list.append(i)\n",
    "    new_list = set(new_list)\n",
    "    return new_list\n",
    "\n",
    "liste = [\"chair\", \"pencil\", \"arm\", 'chair']\n",
    "pluralize(liste)"
   ]
  },
  {
   "cell_type": "markdown",
   "metadata": {},
   "source": [
    "### 6\n",
    "Mubashir needs your help to construct a building which will be a pile of n cubes. The cube at the bottom will have a volume of n^3, the cube above will have volume of (n-1)^3 and so on until the top which will have a volume of 1^3.\n",
    "\n",
    "Given the total volume m of the building, can you find the number of cubes n required for the building?\n",
    "\n",
    "In other words, you have to return an integer n such that:\n",
    "n^3 + (n-1)^3 + ... + 1^3 == m\n",
    "Return None if there is no such number.\n",
    "\n",
    "pile_of_cubes(1071225) ➞ 45\n",
    "\n",
    "pile_of_cubes(4183059834009) ➞ 2022\n",
    "\n",
    "pile_of_cubes(16) ➞ None"
   ]
  },
  {
   "cell_type": "code",
   "execution_count": 63,
   "metadata": {},
   "outputs": [
    {
     "data": {
      "text/plain": [
       "'None'"
      ]
     },
     "execution_count": 63,
     "metadata": {},
     "output_type": "execute_result"
    }
   ],
   "source": [
    "def to_infinity():\n",
    "    index = 1\n",
    "    while True:\n",
    "        yield index\n",
    "        index += 1\n",
    "\n",
    "def pile_of_cubes(num):\n",
    "    toplam = 0\n",
    "    for i in to_infinity():\n",
    "        toplam += i ** 3\n",
    "        if toplam == num:\n",
    "            sonuc = i\n",
    "            break\n",
    "        elif toplam > num:\n",
    "            sonuc = 'None'\n",
    "            break\n",
    "    return(sonuc)\n",
    "\n",
    "pile_of_cubes(16)"
   ]
  },
  {
   "cell_type": "markdown",
   "metadata": {},
   "source": [
    "### 7\n",
    "There are three cups on a table, at positions A, B, and C. At the start, there is a ball hidden under the cup at position B.\n",
    "\n",
    "However, I perform several swaps on the cups, which is notated as two letters. For example, if I swap the cups at positions A and B, I could notate this as AB or BA.\n",
    "\n",
    "Create a function that returns the letter position that the ball is at, once I finish swapping the cups. The swaps will be given to you as a list.\n",
    "\n",
    "cup_swapping([\"AB\", \"CA\"]) ➞ \"C\"\n",
    "\n",
    "cup_swapping([\"AC\", \"CA\", \"CA\", \"AC\"]) ➞ \"B\"\n",
    "\n",
    "cup_swapping([\"BA\", \"AC\", \"CA\", \"BC\"]) ➞ \"A\""
   ]
  },
  {
   "cell_type": "code",
   "execution_count": 29,
   "metadata": {},
   "outputs": [
    {
     "data": {
      "text/plain": [
       "'A'"
      ]
     },
     "execution_count": 29,
     "metadata": {},
     "output_type": "execute_result"
    }
   ],
   "source": [
    "def cup_swapping(liste):\n",
    "    top ='B'\n",
    "    for i in liste:\n",
    "        if not top in i:\n",
    "            continue\n",
    "        else:\n",
    "            i = i.strip(top)\n",
    "            top = i\n",
    "    return top\n",
    "\n",
    "cup_swapping([\"BA\", \"AC\", \"CA\", \"BC\"])"
   ]
  },
  {
   "cell_type": "markdown",
   "metadata": {},
   "source": [
    "### 8\n",
    "Create a function that takes a number num and returns each place value in the number.\n",
    "\n",
    "num_split(39) ➞ [30, 9]\n",
    "\n",
    "num_split(-434) ➞ [-400, -30, -4]\n",
    "\n",
    "num_split(100) ➞ [100, 0, 0]"
   ]
  },
  {
   "cell_type": "code",
   "execution_count": 30,
   "metadata": {},
   "outputs": [
    {
     "data": {
      "text/plain": [
       "[-400, -30, -4]"
      ]
     },
     "execution_count": 30,
     "metadata": {},
     "output_type": "execute_result"
    }
   ],
   "source": [
    "def num_split(num):    \n",
    "    negative = False\n",
    "    result = []\n",
    "    sayac = 0\n",
    "    num = str(num)\n",
    "    if num.startswith('-'):\n",
    "        num = num.lstrip('-')\n",
    "        negative = True\n",
    "    leng = len(num)\n",
    "    for i in range(leng):\n",
    "        sayi = num[sayac] + '0' * ((leng - 1) - sayac)\n",
    "        if negative:\n",
    "            sayi = -int(sayi)\n",
    "        result.append(int(sayi))\n",
    "        sayac += 1\n",
    "    return result\n",
    "\n",
    "num_split(-434)"
   ]
  },
  {
   "cell_type": "markdown",
   "metadata": {},
   "source": [
    "### 9\n",
    "Create a function that returns a list containing the prime factors of whatever integer is passed to it.\n",
    "\n",
    "prime_factors(20) ➞ [2, 2, 5]\n",
    "\n",
    "prime_factors(100) ➞ [2, 2, 5, 5]\n",
    "\n",
    "prime_factors(8912234) ➞ [2, 47, 94811]"
   ]
  },
  {
   "cell_type": "code",
   "execution_count": 31,
   "metadata": {},
   "outputs": [
    {
     "data": {
      "text/plain": [
       "[2, 47, 94811]"
      ]
     },
     "execution_count": 31,
     "metadata": {},
     "output_type": "execute_result"
    }
   ],
   "source": [
    "def prime_factors(num):\n",
    "    new_list = []\n",
    "    for i in range(2, num):\n",
    "        while True:\n",
    "            if num % i == 0:\n",
    "                new_list.append(i)\n",
    "                num = num // i\n",
    "            else:\n",
    "                break\n",
    "    return new_list\n",
    "\n",
    "prime_factors(8912234)"
   ]
  },
  {
   "cell_type": "markdown",
   "metadata": {},
   "source": [
    "### 10\n",
    "```\n",
    "Write a function that groups a string into parentheses cluster. Each cluster should be balanced.\n",
    "split(\"()()()\") ➞ [\"()\", \"()\", \"()\"]\n",
    "\n",
    "split(\"((()))\") ➞ [\"((()))\"]\n",
    "\n",
    "split(\"((()))(())()()(()())\") ➞ [\"((()))\", \"(())\", \"()\", \"()\", \"(()())\"]\n",
    "\n",
    "split(\"((())())(()(()()))\") ➞ [\"((())())\", \"(()(()()))\"]\n",
    "```"
   ]
  },
  {
   "cell_type": "code",
   "execution_count": 32,
   "metadata": {},
   "outputs": [
    {
     "data": {
      "text/plain": [
       "['((())())', '(()(()()))']"
      ]
     },
     "execution_count": 32,
     "metadata": {},
     "output_type": "execute_result"
    }
   ],
   "source": [
    "def split(cluster):\n",
    "    sol, sag = 0, 0\n",
    "    liste = []\n",
    "    result = []\n",
    "    for i in cluster:\n",
    "        if i == '(':\n",
    "            sol += 1\n",
    "            liste.append(i)\n",
    "        elif i == ')':\n",
    "            sag += 1\n",
    "            liste.append(i)\n",
    "        if sol == sag:\n",
    "            liste = ''.join(liste)\n",
    "            result.append(liste)\n",
    "            liste = []\n",
    "    return result\n",
    "\n",
    "cluster = \"((())())(()(()()))\"\n",
    "split(cluster)"
   ]
  },
  {
   "cell_type": "markdown",
   "metadata": {},
   "source": [
    "### 11\n",
    "Write a function that returns True if every consecutive sequence of ones is followed by a consecutive sequence of zeroes of the same length.\n",
    "\n",
    "same_length(\"110011100010\") ➞ True\n",
    "\n",
    "same_length(\"101010110\") ➞ False\n",
    "\n",
    "same_length(\"111100001100\") ➞ True\n",
    "\n",
    "same_length(\"111\") ➞ False"
   ]
  },
  {
   "cell_type": "code",
   "execution_count": 34,
   "metadata": {},
   "outputs": [
    {
     "data": {
      "text/plain": [
       "True"
      ]
     },
     "execution_count": 34,
     "metadata": {},
     "output_type": "execute_result"
    }
   ],
   "source": [
    "def same_length(text):\n",
    "    liste = []\n",
    "    devam = True\n",
    "    sonuc = False\n",
    "    for i in text:\n",
    "        if i == '1':\n",
    "            if devam:\n",
    "                liste.append(i)\n",
    "                sonuc = False\n",
    "            else:\n",
    "                break\n",
    "        elif i == '0':\n",
    "            if '1' in liste:\n",
    "                liste.pop()\n",
    "                if liste != []:\n",
    "                    devam = False\n",
    "                    sonuc = False\n",
    "                else:\n",
    "                    devam = True\n",
    "                    sonuc = True\n",
    "            else:\n",
    "                break\n",
    "    return sonuc\n",
    "same_length(\"110011110000110010\")"
   ]
  },
  {
   "cell_type": "markdown",
   "metadata": {},
   "source": [
    "### 12\n",
    "```\n",
    "You are given a list which may contain sublists. Your task is to find the depth of the deepest sublist.\n",
    "\n",
    "[a] = 1 depth\n",
    "[[a]] = 2 depth\n",
    "[[[a]]] = 3 depth, etc\n",
    "Examples\n",
    "deepest([1, [2, 3], 4, [5, 6]]) ➞ 2\n",
    "\n",
    "deepest([[[[[[[[[[1]]]]]]]]]]) ➞ 10\n",
    "\n",
    "deepest([1, 4, [1, 4, [1, 4, [1, 4, [5]]]]]) ➞ 5\n",
    "```"
   ]
  },
  {
   "cell_type": "code",
   "execution_count": 1,
   "metadata": {},
   "outputs": [
    {
     "data": {
      "text/plain": [
       "6"
      ]
     },
     "execution_count": 1,
     "metadata": {},
     "output_type": "execute_result"
    }
   ],
   "source": [
    "def deepest_sublist(liste):\n",
    "    new_list = []\n",
    "    count = 0\n",
    "    liste = str(liste)\n",
    "    for i in liste:\n",
    "        if i == '[':\n",
    "            count += 1\n",
    "        elif i == ']':\n",
    "            count -= 1\n",
    "        new_list.append(count)\n",
    "    return max(new_list)\n",
    "\n",
    "deepest_sublist([[],[],[[[[[4]]]]],[[[[3]]]]])"
   ]
  },
  {
   "cell_type": "markdown",
   "metadata": {},
   "source": [
    "### 13\n",
    "```\n",
    "Given a 3x3 matrix of a completed tic-tac-toe game, create a function that returns whether the game is a win for \"X\", \"O\", or a \"Draw\", where \"X\" and \"O\" represent themselves on the matrix, and \"E\" represents an empty spot.\n",
    "\n",
    "Examples\n",
    "tic_tac_toe([\n",
    "  [\"X\", \"O\", \"X\"],\n",
    "  [\"O\", \"X\",  \"O\"],\n",
    "  [\"O\", \"X\",  \"X\"]\n",
    "]) ➞ \"X\"\n",
    "\n",
    "tic_tac_toe([\n",
    "  [\"O\", \"O\", \"O\"],\n",
    "  [\"O\", \"X\", \"X\"],\n",
    "  [\"E\", \"X\", \"X\"]\n",
    "]) ➞ \"O\"\n",
    "\n",
    "tic_tac_toe([\n",
    "  [\"X\", \"X\", \"O\"],\n",
    "  [\"O\", \"O\", \"X\"],\n",
    "  [\"X\", \"X\", \"O\"]\n",
    "]) ➞ \"Draw\"\n",
    "```"
   ]
  },
  {
   "cell_type": "code",
   "execution_count": 10,
   "metadata": {},
   "outputs": [
    {
     "data": {
      "text/plain": [
       "'X'"
      ]
     },
     "execution_count": 10,
     "metadata": {},
     "output_type": "execute_result"
    }
   ],
   "source": [
    "def tic_tac_toe(a):\n",
    "    sonuc = 'Draw'\n",
    "    for i in a:\n",
    "        if len(set(i)) == 1:\n",
    "            sonuc = i[0]\n",
    "    if sonuc == 'Draw':\n",
    "        b = map(lambda x, y, z : [x, y, z], *[x for x in a])\n",
    "        for i in list(b):\n",
    "            if len(set(i)) == 1:\n",
    "                sonuc = i[0]\n",
    "    if sonuc == 'Draw':\n",
    "        if a[0][0] == a[1][1] == a[2][2]:\n",
    "            sonuc = a[0][0]\n",
    "        elif a[0][2] == a[1][1] == a[2][0]:\n",
    "            sonuc = a[0][2]\n",
    "    return sonuc\n",
    "\n",
    "tic_tac_toe([\n",
    "  [\"O\", \"X\", \"X\"],\n",
    "  [\"O\", \"O\", \"X\"],\n",
    "  [\"X\", \"O\", \"X\"]\n",
    "])"
   ]
  },
  {
   "cell_type": "code",
   "execution_count": null,
   "metadata": {},
   "outputs": [],
   "source": []
  }
 ],
 "metadata": {
  "kernelspec": {
   "display_name": "Python 3 (ipykernel)",
   "language": "python",
   "name": "python3"
  },
  "language_info": {
   "codemirror_mode": {
    "name": "ipython",
    "version": 3
   },
   "file_extension": ".py",
   "mimetype": "text/x-python",
   "name": "python",
   "nbconvert_exporter": "python",
   "pygments_lexer": "ipython3",
   "version": "3.8.5"
  }
 },
 "nbformat": 4,
 "nbformat_minor": 4
}
