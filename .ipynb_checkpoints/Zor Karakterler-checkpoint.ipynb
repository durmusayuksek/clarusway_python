{
 "cells": [
  {
   "cell_type": "markdown",
   "metadata": {},
   "source": [
    "```\n",
    "Given a string containing just the characters '(', ')', '{', '}', '[' and ']',\n",
    "determine if the input string is valid.\n",
    "An input string is valid if:\n",
    "Open brackets must be closed by the same type of brackets.\n",
    "Open brackets must be closed in the correct order.\n",
    "Note that an empty string is also considered valid.\n",
    "Example 1:\n",
    "Input: \"()\"\n",
    "Output: True\n",
    "Example 2:\n",
    "Input: \"()[]{}\"\n",
    "Output: True\n",
    "Example 3:\n",
    "Input: \"(]\"\n",
    "Output: False\n",
    "Example 4:\n",
    "Input: \"([)]\"\n",
    "Output: False\n",
    "Example 5:\n",
    "Input: \"{[]}\"\n",
    "Output: True (edited) \n",
    "```"
   ]
  },
  {
   "cell_type": "code",
   "execution_count": 25,
   "metadata": {},
   "outputs": [
    {
     "name": "stdout",
     "output_type": "stream",
     "text": [
      "Enter a text > [[][]()([][]){}]\n",
      "True\n"
     ]
    }
   ],
   "source": [
    "text = input('Enter a text > ')\n",
    "liste = ['(', '{', '[', ')', '}', ']']\n",
    "dictt = {'(':')', '{':'}', '[':']', ')':'(', '}':'{', ']':'['}\n",
    "leng = len(text)\n",
    "result = True\n",
    "for i in text:\n",
    "    if i in liste:\n",
    "        sayi_1 = text.count(i)\n",
    "        x = text.find(i)\n",
    "        tersi = dictt[i]\n",
    "        if tersi in text:\n",
    "            sayi_2 = text.count(tersi)\n",
    "            y = text[::-1].find(tersi)\n",
    "            y = leng - y - 1\n",
    "            if i == '(' or i == '{' or i == '[':\n",
    "                if sayi_1 !=sayi_2 or x > y or not (y - x) % 2:\n",
    "                    result = False\n",
    "                    break\n",
    "            else:\n",
    "                if y > x:\n",
    "                    if i not in text[y + 1:]:\n",
    "                        result = False\n",
    "                        break\n",
    "        else:\n",
    "            result = False\n",
    "    else:\n",
    "        result = False\n",
    "print(result)"
   ]
  },
  {
   "cell_type": "code",
   "execution_count": 27,
   "metadata": {},
   "outputs": [
    {
     "name": "stdout",
     "output_type": "stream",
     "text": [
      "['[']\n",
      "['[', '[']\n",
      "['[', '[']\n",
      "['[', '(']\n",
      "['[', '(']\n",
      "['[', '(', '[']\n",
      "['[', '(', '[']\n",
      "['[', '{']\n",
      "True\n"
     ]
    }
   ],
   "source": [
    "def valid(a):\n",
    "        liste = []\n",
    "        sözlük = {\"]\":\"[\", \"}\":\"{\", \")\":\"(\"}\n",
    "        for i in a:\n",
    "            if i in sözlük.values():\n",
    "                liste.append(i)\n",
    "                print(liste)\n",
    "            elif i in sözlük.keys():\n",
    "                if liste == [] or sözlük[i] != liste.pop():\n",
    "                    print(liste)\n",
    "                    return False\n",
    "            else:\n",
    "                return False\n",
    "        return liste == []\n",
    "print(valid('[[][]()([][]){}]'))"
   ]
  },
  {
   "cell_type": "code",
   "execution_count": null,
   "metadata": {},
   "outputs": [],
   "source": []
  }
 ],
 "metadata": {
  "kernelspec": {
   "display_name": "Python 3 (ipykernel)",
   "language": "python",
   "name": "python3"
  },
  "language_info": {
   "codemirror_mode": {
    "name": "ipython",
    "version": 3
   },
   "file_extension": ".py",
   "mimetype": "text/x-python",
   "name": "python",
   "nbconvert_exporter": "python",
   "pygments_lexer": "ipython3",
   "version": "3.8.5"
  }
 },
 "nbformat": 4,
 "nbformat_minor": 4
}
