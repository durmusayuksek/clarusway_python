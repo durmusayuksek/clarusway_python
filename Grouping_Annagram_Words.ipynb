{
 "cells": [
  {
   "cell_type": "markdown",
   "metadata": {},
   "source": [
    "## GROUPING ANAGRAM WORDS"
   ]
  },
  {
   "cell_type": "markdown",
   "metadata": {},
   "source": [
    "Given a list of strings, group anagrams together.\n",
    "Note:\n",
    "All inputs will be in lowercase.\n",
    "The order of your output does not matter.\n",
    "Answers should be in thread messages"
   ]
  },
  {
   "cell_type": "markdown",
   "metadata": {},
   "source": [
    "### Solution 1"
   ]
  },
  {
   "cell_type": "code",
   "execution_count": 42,
   "metadata": {},
   "outputs": [
    {
     "name": "stdout",
     "output_type": "stream",
     "text": [
      "[['eat', 'tea', 'ate'], ['tan', 'nat'], ['bat']]\n"
     ]
    }
   ],
   "source": [
    "from collections import defaultdict\n",
    "input_list = [\"eat\", \"tea\", \"tan\", \"ate\", \"nat\", \"bat\"]\n",
    "#when list object is passed to defaultdict then values of dictionary is list\n",
    "group = defaultdict(list)\n",
    "#looping over each word in list\n",
    "for word in input_list:\n",
    "    group[str(sorted(word))].append(word)\n",
    "#getting similar pairs\n",
    "pairs = list(group.values())\n",
    "#printing the results\n",
    "print(pairs)"
   ]
  },
  {
   "cell_type": "markdown",
   "metadata": {},
   "source": [
    "### Solution 2"
   ]
  },
  {
   "cell_type": "code",
   "execution_count": 46,
   "metadata": {},
   "outputs": [
    {
     "name": "stdout",
     "output_type": "stream",
     "text": [
      "['CARS', 'ARCS', 'SCAR']\n",
      "['REPAID', 'PAIRED']\n",
      "['DUES', 'USED', 'SUED']\n",
      "['NOSE', 'ONES']\n",
      "['SIGNED', 'DESIGN']\n",
      "['LANE', 'LEAN']\n",
      "['GRAB', 'BRAG']\n"
     ]
    }
   ],
   "source": [
    "# Function to group anagrams from a given list of words\n",
    "def groupAnagrams(words):\n",
    " \n",
    "    # sort each word on the list\n",
    "    A = [''.join(sorted(word)) for word in words]\n",
    " \n",
    "    # construct a dictionary where the key is each sorted word,\n",
    "    # and value is a list of indices where it is present\n",
    "    dict = {}\n",
    "    for i, e in enumerate(A):\n",
    "        dict.setdefault(e, []).append(i)\n",
    " \n",
    "    # traverse the dictionary and read indices for each sorted key.\n",
    "    # The anagrams are present in the actual list at those indices\n",
    "    for index in dict.values():\n",
    "        print([words[i] for i in index])\n",
    " \n",
    " \n",
    "if __name__ == '__main__':\n",
    " \n",
    "    # a list of words\n",
    "    words = [\n",
    "        \"CARS\", \"REPAID\", \"DUES\", \"NOSE\", \"SIGNED\", \"LANE\",\n",
    "        \"PAIRED\", \"ARCS\", \"GRAB\", \"USED\", \"ONES\", \"BRAG\",\n",
    "        \"SUED\", \"LEAN\", \"SCAR\", \"DESIGN\"]\n",
    " \n",
    "    groupAnagrams(words)"
   ]
  },
  {
   "cell_type": "code",
   "execution_count": 60,
   "metadata": {},
   "outputs": [
    {
     "name": "stdout",
     "output_type": "stream",
     "text": [
      "['eat', 'tea', 'ate']\n",
      "['tan', 'nat']\n",
      "['bat']\n"
     ]
    }
   ],
   "source": [
    "words = [\"eat\", \"tea\", \"tan\", \"ate\", \"nat\", \"bat\"]\n",
    "A = [''.join(sorted(word)) for word in words]\n",
    "dict = {}\n",
    "for i, e in enumerate(A):\n",
    "    dict.setdefault(e, []).append(i)\n",
    "for index in dict.values():\n",
    "    print([words[i] for i in index])"
   ]
  }
 ],
 "metadata": {
  "kernelspec": {
   "display_name": "Python 3",
   "language": "python",
   "name": "python3"
  },
  "language_info": {
   "codemirror_mode": {
    "name": "ipython",
    "version": 3
   },
   "file_extension": ".py",
   "mimetype": "text/x-python",
   "name": "python",
   "nbconvert_exporter": "python",
   "pygments_lexer": "ipython3",
   "version": "3.8.5"
  }
 },
 "nbformat": 4,
 "nbformat_minor": 4
}
