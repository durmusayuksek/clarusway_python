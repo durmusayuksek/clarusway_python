{
 "cells": [
  {
   "cell_type": "markdown",
   "metadata": {},
   "source": [
    "Given an incomplete palindrome as a string, return the minimum letters needed to be added on to the end to make the string a palindrome."
   ]
  },
  {
   "cell_type": "code",
   "execution_count": 50,
   "metadata": {},
   "outputs": [
    {
     "name": "stdout",
     "output_type": "stream",
     "text": [
      "Enter a text > han\n",
      "\n",
      "We need minimum 2 letters to be added to the end of han,\n",
      "These 2 letter is/are ah.\n",
      "Thus, our palindrom is hanah.\n"
     ]
    }
   ],
   "source": [
    "text = input('Enter a text > ')\n",
    "text2 = text\n",
    "rev = text[::-1]\n",
    "sayac = 0\n",
    "length = len(text)\n",
    "while True:\n",
    "    for i in range(length):\n",
    "        text = text[1:]\n",
    "        rev = rev[:-1]\n",
    "        sayac += 1\n",
    "        if text == rev:\n",
    "            break\n",
    "    break\n",
    "which = text2[:sayac]\n",
    "which_reverse = which[::-1]\n",
    "print(f'''\n",
    "We need minimum {sayac} letters to be added to the end of {text2},\n",
    "These {sayac} letter is/are {which_reverse}.\n",
    "Thus, our palindrom is {text2 + which_reverse}.''')"
   ]
  },
  {
   "cell_type": "code",
   "execution_count": null,
   "metadata": {},
   "outputs": [],
   "source": []
  }
 ],
 "metadata": {
  "kernelspec": {
   "display_name": "Python 3",
   "language": "python",
   "name": "python3"
  },
  "language_info": {
   "codemirror_mode": {
    "name": "ipython",
    "version": 3
   },
   "file_extension": ".py",
   "mimetype": "text/x-python",
   "name": "python",
   "nbconvert_exporter": "python",
   "pygments_lexer": "ipython3",
   "version": "3.8.5"
  }
 },
 "nbformat": 4,
 "nbformat_minor": 4
}
