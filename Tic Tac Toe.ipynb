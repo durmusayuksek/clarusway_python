{
 "cells": [
  {
   "cell_type": "markdown",
   "metadata": {},
   "source": [
    "```\n",
    "Given a 3x3 matrix of a completed tic-tac-toe game, create a function that returns whether the game is a win for \"X\", \"O\", or a \"Draw\", where \"X\" and \"O\" represent themselves on the matrix, and \"E\" represents an empty spot.\n",
    "\n",
    "Examples\n",
    "tic_tac_toe([\n",
    "  [\"X\", \"O\", \"X\"],\n",
    "  [\"O\", \"X\",  \"O\"],\n",
    "  [\"O\", \"X\",  \"X\"]\n",
    "]) ➞ \"X\"\n",
    "\n",
    "tic_tac_toe([\n",
    "  [\"O\", \"O\", \"O\"],\n",
    "  [\"O\", \"X\", \"X\"],\n",
    "  [\"E\", \"X\", \"X\"]\n",
    "]) ➞ \"O\"\n",
    "\n",
    "tic_tac_toe([\n",
    "  [\"X\", \"X\", \"O\"],\n",
    "  [\"O\", \"O\", \"X\"],\n",
    "  [\"X\", \"X\", \"O\"]\n",
    "]) ➞ \"Draw\"\n",
    "```"
   ]
  },
  {
   "cell_type": "code",
   "execution_count": 28,
   "metadata": {},
   "outputs": [
    {
     "name": "stdout",
     "output_type": "stream",
     "text": [
      "X\n"
     ]
    }
   ],
   "source": [
    "a = [\n",
    "  [\"O\", \"X\", \"O\"],\n",
    "  [\"O\", \"O\", \"X\"],\n",
    "  [\"X\", \"X\", \"X\"]\n",
    "]\n",
    "sonuc = 'Draw'\n",
    "for i in a:\n",
    "    if len(set(i)) == 1:\n",
    "        sonuc = i[0]\n",
    "if sonuc == 'Draw':\n",
    "    b = map(lambda x, y, z : [x, y, z], *[x for x in a])\n",
    "    for i in list(b):\n",
    "        if len(set(i)) == 1:\n",
    "            sonuc = i[0]\n",
    "if sonuc == 'Draw':\n",
    "    if a[0][0] == a[1][1] == a[2][2]:\n",
    "        sonuc = a[0][0]\n",
    "    elif a[0][2] == a[1][1] == a[2][0]:\n",
    "        sonuc = a[0][2]\n",
    "print(sonuc)"
   ]
  },
  {
   "cell_type": "code",
   "execution_count": 6,
   "metadata": {},
   "outputs": [
    {
     "data": {
      "text/plain": [
       "'X'"
      ]
     },
     "execution_count": 6,
     "metadata": {},
     "output_type": "execute_result"
    }
   ],
   "source": [
    "def tic_tac_toe(a):\n",
    "    sonuc = 'Draw'\n",
    "    for i in a:\n",
    "        if len(set(i)) == 1:\n",
    "            sonuc = i[0]\n",
    "    if sonuc == 'Draw':\n",
    "        b = map(lambda x, y, z : [x, y, z], *[x for x in a])\n",
    "        for i in list(b):\n",
    "            if len(set(i)) == 1:\n",
    "                sonuc = i[0]\n",
    "    if sonuc == 'Draw':\n",
    "        if a[0][0] == a[1][1] == a[2][2]:\n",
    "            sonuc = a[0][0]\n",
    "        elif a[0][2] == a[1][1] == a[2][0]:\n",
    "            sonuc = a[0][2]\n",
    "    return sonuc\n",
    "\n",
    "tic_tac_toe([\n",
    "  [\"O\", \"X\", \"X\"],\n",
    "  [\"O\", \"O\", \"X\"],\n",
    "  [\"X\", \"O\", \"X\"]\n",
    "])"
   ]
  },
  {
   "cell_type": "code",
   "execution_count": null,
   "metadata": {},
   "outputs": [],
   "source": []
  }
 ],
 "metadata": {
  "kernelspec": {
   "display_name": "Python 3 (ipykernel)",
   "language": "python",
   "name": "python3"
  },
  "language_info": {
   "codemirror_mode": {
    "name": "ipython",
    "version": 3
   },
   "file_extension": ".py",
   "mimetype": "text/x-python",
   "name": "python",
   "nbconvert_exporter": "python",
   "pygments_lexer": "ipython3",
   "version": "3.8.5"
  }
 },
 "nbformat": 4,
 "nbformat_minor": 4
}
